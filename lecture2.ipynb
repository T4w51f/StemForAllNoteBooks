{
 "cells": [
  {
   "cell_type": "markdown",
   "metadata": {},
   "source": [
    "# **STEM For All**\r\n",
    "## **Introduction to Python - Session 2**"
   ]
  },
  {
   "cell_type": "markdown",
   "metadata": {},
   "source": [
    "### **Conditional Statements & Loops**\r\n",
    "In python, and also almost any other programming language, you have the option to run specific blocks of code after checking for a certain condition that you set. The result or value of a condition is always of the type __*boolean*__ which means it can either be __*True*__ or __*False*__.\r\n",
    "\r\n",
    "To understand conditions, we first have to take a look at **Relational Operators**.\r\n",
    "\r\n",
    "|   RELATIONAL OPERATOR\t|   EXAMPLE\t|           REPRESENTS \t            |\r\n",
    "|          ---\t        |    ---\t|               ---\t                |\r\n",
    "|          ==\t        |   x == y\t|   x is equal to y\t                |\r\n",
    "|          !=\t        |   x != y\t|   x is not equal to y\t            |\r\n",
    "|          >\t        |   x > y\t|   x is greater than y\t            |\r\n",
    "|          <\t        |   x < y\t|   x is less than y\t            |\r\n",
    "|          >=\t        |   x >= y\t|   x is greater than or equal to y\t|\r\n",
    "|          <=           |   x <= y  |   x is less than or equal to y    |\r\n",
    "\r\n",
    "Let us take a look at a few examples of how they translate to either True or False:"
   ]
  },
  {
   "cell_type": "code",
   "execution_count": null,
   "metadata": {},
   "outputs": [],
   "source": [
    "x = 5\r\n",
    "y = 10\r\n",
    "z = 5.0\r\n",
    "f = \"Five\"\r\n",
    "\r\n",
    "# You can compare variables with numbers\r\n",
    "print(\"x == 5 is\", x == 5)\r\n",
    "print(\"x != 5 is\", x != 5)\r\n",
    "\r\n",
    "# Note the difference between >= and >\r\n",
    "print(\"y > 10 is\", y > 10)\r\n",
    "print(\"y >= 10 is\", y >= 10)\r\n",
    "\r\n",
    "# You can compare two variables too\r\n",
    "print(\"x < y is\", x < y)\r\n",
    "\r\n",
    "# You can compare different data types too\r\n",
    "print(\"x == z is\", x == z)\r\n",
    "print('\"Five\" == 5 is', \"Five\" == 5)\r\n",
    "print('f == \"Five\" is', f == \"Five\")\r\n",
    "\r\n",
    "# You can also assign the result of a comparison to a variable\r\n",
    "bool_result = (x == y/2)\r\n",
    "print(\"bool_result is\", bool_result)"
   ]
  },
  {
   "cell_type": "markdown",
   "metadata": {},
   "source": [
    "### **CONDITIONAL STATEMENTS**\r\n",
    "#### **_if statement_**\r\n",
    "\r\n",
    "Conditional statements are important because they give you the ability to check conditions and change the programs behaviour accordingly.\r\n",
    "\r\n",
    "An example of such a conditional statement is:"
   ]
  },
  {
   "cell_type": "code",
   "execution_count": null,
   "metadata": {},
   "outputs": [],
   "source": [
    "x = 8\r\n",
    "\r\n",
    "if (x > 0):\r\n",
    "    print(\"x is positive\") # This runs only when the condition is true"
   ]
  },
  {
   "cell_type": "markdown",
   "metadata": {},
   "source": [
    "\r\n",
    "|Syntax|Description|\r\n",
    "|---|---|\r\n",
    "|if                     |Indicates that this is an **if** statement                                                  |\r\n",
    "|x > 0                  |Example of a **condition**; Result is either True or False                                  |\r\n",
    "|if (**_condition_**):            |This line is called the **Header**; First line of the if statement and must end with a colon|\r\n",
    "|print(\"x is positive\") |This line is part of the **Body**; The body can have multiple lines of code; The code here will run only when the condition is **_True_**; Every line in the body must be indented|\r\n"
   ]
  },
  {
   "cell_type": "markdown",
   "metadata": {},
   "source": [
    "#### **_else statement_**\r\n",
    "You can even have an **else** statement if you want your program to have **_two_** possibilities where only one of which will run depending on the condition. For example:"
   ]
  },
  {
   "cell_type": "code",
   "execution_count": 46,
   "metadata": {},
   "outputs": [],
   "source": [
    "x = -8\r\n",
    "\r\n",
    "if (x > 0):\r\n",
    "    print(\"x is positive\") # This runs when the condition is true\r\n",
    "else:\r\n",
    "    print(\"x is negative\") # This runs when the condition is false"
   ]
  },
  {
   "cell_type": "markdown",
   "metadata": {},
   "source": [
    "\r\n",
    "|Syntax|Description|\r\n",
    "|---|---|\r\n",
    "|else:                   |Indicates that this is an **else** statement; Does not need a condition; Also must end with a colon                                                  |\r\n",
    "|print(\"x is negative\")  |This line is part of the **Body** for the else condition; The body can have multiple lines of code; The code here will run only when the condition is **_False_**; Every line in the body must be indented|\r\n"
   ]
  },
  {
   "cell_type": "markdown",
   "metadata": {},
   "source": [
    "#### **_elif statement_**\r\n",
    "It is possible to have more than two possibilites too and also have it check for different conditions for each possibility. This is done by adding another statement, similar to the last two, called an **elif** statement. Elif is short for \"else if\" and it has this name because it has properties of both an else and an if statement. For example:"
   ]
  },
  {
   "cell_type": "code",
   "execution_count": null,
   "metadata": {},
   "outputs": [],
   "source": [
    "student_age = 19\r\n",
    "\r\n",
    "if (student_age > 30):\r\n",
    "    print(\"Student is a middle aged man or woman\")\r\n",
    "elif (student_age > 19):\r\n",
    "    print(\"Student is a young adult\")\r\n",
    "elif(student_age > 12):\r\n",
    "    print(\"Student is a teenager\")\r\n",
    "elif(student_age > 4):\r\n",
    "    print(\"Student is a child\")\r\n",
    "elif(student_age > 0):\r\n",
    "    print(\"Student is a toddler\")\r\n",
    "else:\r\n",
    "    print(\"Student's mother is pregnant with the student\")\r\n",
    "\r\n",
    "# What happens when the conditions are in a reversed order?\r\n",
    "\r\n",
    "# if (student_age > 0):\r\n",
    "#     print(\"Student is a toddler\")\r\n",
    "# elif (student_age > 4):\r\n",
    "#     print(\"Student is a toddler\")\r\n",
    "# elif (student_age > 12):\r\n",
    "#     print(\"Student is a teenager\")\r\n",
    "# elif (student_age > 19):\r\n",
    "#     print(\"Student is a young adult\")\r\n",
    "# elif (student_age > 30):\r\n",
    "#     print(\"Student is a middle aged man or woman\")\r\n",
    "# else:\r\n",
    "#     print(\"ERROR 404: Student not found\")"
   ]
  },
  {
   "cell_type": "markdown",
   "metadata": {},
   "source": [
    "\r\n",
    "Some similarities and differences between the three statements:\r\n",
    "\r\n",
    "|if|elif|else|\r\n",
    "|---|---|---|\r\n",
    "|Needs a condition to be specified|Needs a condition to be specified|Does not need a condition|\r\n",
    "|Always the first conditional statement|Always comes after an **if** statement and before an **else** statement|Always the last conditional statement|\r\n",
    "|Always checks the condition|Only checks the condition if prior conditions are all false|No condition to check. Only runs when all prior conditions are false|\r\n",
    "|Only one **if** statement and it is mandatory|There can be multiple **elif** statements but they are otional|Only one **else** statement and it is optional|\r\n",
    "|Header must end with a colon|Header must end with a colon|Header must end with a colon|\r\n",
    "|Every line in the body must be indented|Every line in the body must be indented|Every line in the body must be indented|\r\n"
   ]
  },
  {
   "cell_type": "markdown",
   "metadata": {},
   "source": [
    "### **LOOPS**\r\n",
    "Loops or **Iterations** are another commonly used feauture about almost all programming languages. They are used when there is a block of code that may need to be executed repeatedly for a known or even for an indefinite amount of times. It keeps the program concise and much more readable by avoiding writing the same block of code multiple times, instead letting the program run it multiple times for you.\r\n",
    "\r\n",
    "There are two types of loops. The **WHILE** loop and the **FOR** loop."
   ]
  },
  {
   "cell_type": "markdown",
   "metadata": {},
   "source": [
    "#### **FOR Loop**\r\n",
    "The **For loop** is used for iterating over a sequence (list, strings etc.). They are useful when you already know how many times you want to loop through something.\r\n",
    "\r\n",
    "Here is an example of a For Loop:"
   ]
  },
  {
   "cell_type": "code",
   "execution_count": null,
   "metadata": {},
   "outputs": [],
   "source": [
    "# Remember to comment out the code you do not mean to run\r\n",
    "\r\n",
    "# This is the bad way to do it\r\n",
    "words = \"Random String\"\r\n",
    "\r\n",
    "print(words[0])\r\n",
    "print(words[1])\r\n",
    "print(words[2])\r\n",
    "print(words[3])\r\n",
    "print(words[4])\r\n",
    "print(words[5])\r\n",
    "print(words[6])\r\n",
    "print(words[7])\r\n",
    "print(words[8])\r\n",
    "print(words[9])\r\n",
    "print(words[10])\r\n",
    "print(words[11])\r\n",
    "print(words[12])\r\n",
    "\r\n",
    "# This is the right way to do it\r\n",
    "for letter in words:\r\n",
    "    print(letter) # The variable letter stores \"R\" in the first iteration and then \"a\" in the second iteration and so on\r\n",
    "\r\n",
    "# OR\r\n",
    "\r\n",
    "for letter in \"Random String\":\r\n",
    "    print(letter)"
   ]
  },
  {
   "cell_type": "markdown",
   "metadata": {},
   "source": [
    "|Syntax|Description|\r\n",
    "|  --  |     --    |\r\n",
    "|for|Indicates that this is a **FOR** loop|\r\n",
    "|for **_variable_name_** in **_sequence_name_**:|This is the **Header** for a **FOR** loop; **_variable_name_** is the variable to store the value in; **_sequence_name_** is the sequence to be iterated on|\r\n",
    "|print(letter)|This is an example of a line in the **Body**; It can have multiple lines and must be indented; The **Body** is the part that runs repeatedly|"
   ]
  },
  {
   "cell_type": "markdown",
   "metadata": {},
   "source": [
    "#### WHILE Loop\r\n",
    "The **While loop** is used for repeating a block of code while a certain condition is true. The body of the loop should change one or more variables in the condition so that it eventually becomes false and breaks out of the loop. While loops are useful when you don't know how many times you want to loop through the body.\r\n",
    "\r\n",
    "Here is an example of a While Loop:"
   ]
  },
  {
   "cell_type": "code",
   "execution_count": null,
   "metadata": {},
   "outputs": [],
   "source": [
    "num = 1\r\n",
    "\r\n",
    "while (num <= 10):\r\n",
    "    print(\"Loop number: \", num) \r\n",
    "    num += 1 \r\n",
    "\r\n",
    "# Value of num increases every iteration, eventually becoming 11 at which point the condition becomes false and so it breaks out of the loop"
   ]
  },
  {
   "cell_type": "markdown",
   "metadata": {},
   "source": [
    "|Syntax|Description|\r\n",
    "|  --  |     --    |\r\n",
    "|while|Indicates that this is a **WHILE** loop|\r\n",
    "|num <= 10|This is an example of a **condition**|\r\n",
    "|while(**_condition_**):|This is the **Header** for a **WHILE** loop; The **condition** has to be True for the loop to start running|\r\n",
    "|print(\"Loop number: \", num) & num += 1|These two lines are part of the **Body**; It can have multiple lines of code; This is the part that repeatedly runs as long as the condition remains True|"
   ]
  }
 ],
 "metadata": {
  "interpreter": {
   "hash": "8309e9186d5c94dfd18501b0aacdc36c929a901245cf34e7156aebb4ad1ea6a3"
  },
  "kernelspec": {
   "display_name": "Python 3.8.6 32-bit",
   "name": "python3"
  },
  "language_info": {
   "name": "python",
   "version": ""
  },
  "orig_nbformat": 4
 },
 "nbformat": 4,
 "nbformat_minor": 2
}