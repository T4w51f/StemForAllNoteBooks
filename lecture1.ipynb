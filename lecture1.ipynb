{
 "cells": [
  {
   "cell_type": "markdown",
   "metadata": {},
   "source": [
    "# STEM For All\r\n",
    "## Introduction to Python - Session 1\r\n",
    "\r\n",
    "### Introduction and Ice breakers\r\n",
    "\r\n"
   ]
  },
  {
   "cell_type": "markdown",
   "metadata": {},
   "source": [
    "### Data Types and Variables\r\n",
    "\r\n",
    "In Python, like every other programming language, we store data in _variables_. These _variables_ have specific _types_ that give these data a various set of properties.\r\n",
    "The following summarizes the primitive _data types_ that are commonly used:\r\n",
    "\r\n",
    "|   DATA TYPE\t|   NAME\t|  EXAMPLE \t|\r\n",
    "|---\t|---\t|---\t|\r\n",
    "|   int \t|   integers\t|   1, 5, 2501\t|\r\n",
    "|   float\t|   decimals\t|   3.25, 563.123, 46.0\t|\r\n",
    "|   bool\t|   boolean logic\t|   True, False\t|\r\n",
    "|   str\t    |   string / sequence of characters\t|   \"STEM For All\", \"Hello World\"\t|"
   ]
  },
  {
   "cell_type": "markdown",
   "metadata": {},
   "source": [
    "Let us take a look at how we create some variables of these data types in Python:\r\n"
   ]
  },
  {
   "cell_type": "code",
   "execution_count": 3,
   "metadata": {},
   "outputs": [
    {
     "name": "stdout",
     "output_type": "stream",
     "text": [
      "int:  12 , float:  52.35 , bool:  True , str:  STEM For All\n"
     ]
    }
   ],
   "source": [
    "# int\r\n",
    "whole_number = 12\r\n",
    "\r\n",
    "# float\r\n",
    "decimal_number = 52.35\r\n",
    "\r\n",
    "# bool\r\n",
    "boolean_logic = True\r\n",
    "\r\n",
    "# str\r\n",
    "name = \"STEM For All\"\r\n",
    "\r\n",
    "print(\"int: \", whole_number, \", float: \", decimal_number, \", bool: \", boolean_logic, \", str: \", name)"
   ]
  },
  {
   "cell_type": "markdown",
   "metadata": {},
   "source": [
    "Arithmetic Operators:\r\n",
    "\r\n",
    "Now that we have an understanding of the important data types, we can perform operations on these. Let's start with some arithmetic operators. \r\n",
    "\r\n",
    "\r\n",
    "|   OPERATOR\t|   NAME\t|  EXAMPLE \t|\r\n",
    "|---\t|---\t|---\t|\r\n",
    "|   + \t|   Addition\t|   x = 5 + 3\t|\r\n",
    "|   -\t|   Subtraction\t|   x = 123 - 93\t|\r\n",
    "|   *\t|   Multiplication\t|   x = 12.5 * 23.75\t|\r\n",
    "|   /\t    |   Division\t|   x = 12 / 4\t|\r\n",
    "|   **\t    |   Exponent\t|   x = 2 ** 4\t|"
   ]
  },
  {
   "cell_type": "markdown",
   "metadata": {},
   "source": [
    "Let us execute these examples on Python and observe what we get:"
   ]
  },
  {
   "cell_type": "code",
   "execution_count": 4,
   "metadata": {},
   "outputs": [
    {
     "name": "stdout",
     "output_type": "stream",
     "text": [
      "8\n",
      "30\n",
      "296.875\n",
      "3.0\n",
      "16\n"
     ]
    }
   ],
   "source": [
    "x = 5 + 3\r\n",
    "print(x)\r\n",
    "\r\n",
    "x = 123 - 93\r\n",
    "print(x)\r\n",
    "\r\n",
    "x = 12.5 * 23.75\r\n",
    "print(x)\r\n",
    "\r\n",
    "x = 12 / 4\r\n",
    "print(x)\r\n",
    "\r\n",
    "x = 2 ** 4\r\n",
    "print(x)"
   ]
  },
  {
   "cell_type": "markdown",
   "metadata": {},
   "source": [
    "Assignment Operators:\r\n",
    "\r\n",
    "These operators allow us to perform some arithmetic on a variable and directly assign the result to it in a single step. Here are some examples:\r\n",
    "\r\n",
    "|   OPERATOR\t|   DESCRIPTION\t|  EXAMPLE \t|\r\n",
    "|---\t|---\t|---\t|\r\n",
    "|   = \t|   Direct assignment\t|   x = 6\t|\r\n",
    "|   +=\t|   Adding right hand side to the left\t|   x += 5 is the same as x = x + 5\t|\r\n",
    "|   -=\t|   Subtracting right hand side from the left\t|   x -= 10.5 is the same as x = x - 10.5\t|\r\n",
    "|   *=\t    |   Multiplying left hand side by the right\t|   x *= 4 is the same as x = x * 4\t|\r\n",
    "|   /=\t    |   Dividing left hand side by the right\t|   x /= 3 is the same as x = x / 3\t|\r\n",
    "|   **=\t    |   Raising left hand side to the power of the right\t|   x **= 2 is the same as x = x ** 2\t|"
   ]
  }
 ],
 "metadata": {
  "interpreter": {
   "hash": "8309e9186d5c94dfd18501b0aacdc36c929a901245cf34e7156aebb4ad1ea6a3"
  },
  "kernelspec": {
   "display_name": "Python 3.8.6 32-bit",
   "name": "python3"
  },
  "language_info": {
   "codemirror_mode": {
    "name": "ipython",
    "version": 3
   },
   "file_extension": ".py",
   "mimetype": "text/x-python",
   "name": "python",
   "nbconvert_exporter": "python",
   "pygments_lexer": "ipython3",
   "version": "3.8.6"
  },
  "orig_nbformat": 4
 },
 "nbformat": 4,
 "nbformat_minor": 2
}