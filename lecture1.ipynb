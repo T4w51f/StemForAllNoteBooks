{
 "cells": [
  {
   "cell_type": "markdown",
   "metadata": {},
   "source": [
    "# STEM For All\r\n",
    "## Introduction to Python - Session 1\r\n",
    "\r\n",
    "### Introduction and Ice breakers\r\n",
    "\r\n"
   ]
  },
  {
   "cell_type": "markdown",
   "metadata": {},
   "source": [
    "### Data Types and Variables\r\n",
    "\r\n",
    "In Python, like every other programming language, we store data in _variables_. These _variables_ have specific _types_ that give these data a various set of properties.\r\n",
    "The following summarizes the primitive _data types_ that are commonly used:\r\n",
    "\r\n",
    "|   DATA TYPE\t|   NAME\t|  EXAMPLE \t|\r\n",
    "|---\t|---\t|---\t|\r\n",
    "|   int \t|   integers\t|   1, 5, 2501\t|\r\n",
    "|   float\t|   decimals / floating point\t|   3.25, 563.123, 46.0\t|\r\n",
    "|   bool\t|   boolean logic\t|   True, False\t|\r\n",
    "|   str\t    |   string / sequence of characters\t|   \"STEM For All\", \"Hello World\"\t|"
   ]
  },
  {
   "cell_type": "markdown",
   "metadata": {},
   "source": [
    "Let us take a look at how we create some variables of these data types in Python:\r\n"
   ]
  },
  {
   "cell_type": "code",
   "execution_count": 3,
   "metadata": {},
   "outputs": [
    {
     "name": "stdout",
     "output_type": "stream",
     "text": [
      "int:  12 , float:  52.35 , bool:  True , str:  STEM For All\n"
     ]
    }
   ],
   "source": [
    "# int\r\n",
    "whole_number = 12\r\n",
    "\r\n",
    "# float\r\n",
    "decimal_number = 52.35\r\n",
    "\r\n",
    "# bool\r\n",
    "boolean_logic = True\r\n",
    "\r\n",
    "# str\r\n",
    "name = \"STEM For All\"\r\n",
    "\r\n",
    "print(\"int: \", whole_number, \", float: \", decimal_number, \", bool: \", boolean_logic, \", str: \", name)"
   ]
  },
  {
   "cell_type": "markdown",
   "metadata": {},
   "source": [
    "Arithmetic Operators:\r\n",
    "\r\n",
    "Now that we have an understanding of the important data types, we can perform operations on these. Let's start with some arithmetic operators. \r\n",
    "\r\n",
    "\r\n",
    "|   OPERATOR\t|   NAME\t|  EXAMPLE \t|\r\n",
    "|---\t|---\t|---\t|\r\n",
    "|   + \t|   Addition\t|   x = 5 + 3\t|\r\n",
    "|   -\t|   Subtraction\t|   x = 123 - 93\t|\r\n",
    "|   *\t|   Multiplication\t|   x = 12.5 * 23.75\t|\r\n",
    "|   /\t    |   Division\t|   x = 12 / 4\t|\r\n",
    "|   **\t    |   Exponent\t|   x = 2 ** 4\t|"
   ]
  },
  {
   "cell_type": "markdown",
   "metadata": {},
   "source": [
    "Let us execute these examples on Python and observe what we get:"
   ]
  },
  {
   "cell_type": "code",
   "execution_count": 4,
   "metadata": {},
   "outputs": [
    {
     "name": "stdout",
     "output_type": "stream",
     "text": [
      "8\n",
      "30\n",
      "296.875\n",
      "3.0\n",
      "16\n"
     ]
    }
   ],
   "source": [
    "x = 5 + 3\r\n",
    "print(x)\r\n",
    "\r\n",
    "x = 123 - 93\r\n",
    "print(x)\r\n",
    "\r\n",
    "x = 12.5 * 23.75\r\n",
    "print(x)\r\n",
    "\r\n",
    "x = 12 / 4\r\n",
    "print(x)\r\n",
    "\r\n",
    "x = 2 ** 4\r\n",
    "print(x)"
   ]
  },
  {
   "cell_type": "markdown",
   "metadata": {},
   "source": [
    "We can also perform operations on other variables instead of just pure data, much like algebra."
   ]
  },
  {
   "cell_type": "code",
   "execution_count": 1,
   "metadata": {},
   "outputs": [
    {
     "name": "stdout",
     "output_type": "stream",
     "text": [
      "50\n"
     ]
    }
   ],
   "source": [
    "# Let us create a variable x and y and initialize them to some arbitrary integer\r\n",
    "x = 5\r\n",
    "y = 10\r\n",
    "\r\n",
    "# We will perform some operation on these two and store it in a third variable called z\r\n",
    "z = x * y\r\n",
    "print(z)"
   ]
  },
  {
   "cell_type": "markdown",
   "metadata": {},
   "source": [
    "Assignment Operators:\r\n",
    "\r\n",
    "These operators allow us to perform some arithmetic on a variable and directly assign the result to it in a single step. Here are some examples:\r\n",
    "\r\n",
    "|   OPERATOR\t|   DESCRIPTION\t|  EXAMPLE \t|\r\n",
    "|---\t|---\t|---\t|\r\n",
    "|   = \t|   Direct assignment\t|   x = 6\t|\r\n",
    "|   +=\t|   Adding right hand side to the left\t|   x += 5 is the same as x = x + 5\t|\r\n",
    "|   -=\t|   Subtracting right hand side from the left\t|   x -= 10.5 is the same as x = x - 10.5\t|\r\n",
    "|   *=\t    |   Multiplying left hand side by the right\t|   x *= 4 is the same as x = x * 4\t|\r\n",
    "|   /=\t    |   Dividing left hand side by the right\t|   x /= 3 is the same as x = x / 3\t|\r\n",
    "|   **=\t    |   Raising left hand side to the power of the right\t|   x **= 2 is the same as x = x ** 2\t|"
   ]
  },
  {
   "cell_type": "code",
   "execution_count": 3,
   "metadata": {},
   "outputs": [
    {
     "name": "stdout",
     "output_type": "stream",
     "text": [
      "118.4\n",
      "5920.0\n",
      "59.2\n",
      "Hello World!\n"
     ]
    }
   ],
   "source": [
    "# We will use some arbitrary values assigned to x, y and z to demonstrate some examples\r\n",
    "x = 23.4\r\n",
    "y = 43.0\r\n",
    "z = 95.0\r\n",
    "\r\n",
    "z += x\r\n",
    "print(z)\r\n",
    "\r\n",
    "z *= (y + 7)\r\n",
    "print(z)\r\n",
    "\r\n",
    "z /= 100\r\n",
    "print(z)\r\n",
    "\r\n",
    "# We can also use this concatenate strings (meaning combining strings with one another)\r\n",
    "str_a = \"Hello \"\r\n",
    "str_b = \"World!\"\r\n",
    "str_c = str_a + str_b\r\n",
    "print(str_c)"
   ]
  },
  {
   "cell_type": "markdown",
   "metadata": {},
   "source": [
    "### Lists\r\n",
    "\r\n",
    "Now that we have a good understanding of the basic data types, variables and operators, let us move into the concept of lists and arrays. Note that lists and arrays are very similar in python.\r\n",
    "A list or an array can be thought of as a group of data, where the data are stored in some order. An array stores these data ordered by integer indexing starting from 0."
   ]
  },
  {
   "cell_type": "code",
   "execution_count": 5,
   "metadata": {},
   "outputs": [
    {
     "name": "stdout",
     "output_type": "stream",
     "text": [
      "cereal\n",
      "mangoes\n",
      "rice\n",
      "rice\n"
     ]
    }
   ],
   "source": [
    "# Let us create a shopping list as an example\r\n",
    "shopping_list = [\"cereal\", \"cookies\", \"mangoes\", \"chicken\", \"rice\"]\r\n",
    "\r\n",
    "# Let us access different items in the shopping list using indexes \r\n",
    "# Index 0 should give us the \"first\" item\r\n",
    "print(shopping_list[0])\r\n",
    "\r\n",
    "# Index 2 should give us the \"third\" item\r\n",
    "print(shopping_list[2])\r\n",
    "\r\n",
    "# We can access the last element in the list by either its actual index, in this case 4, or by using -1 as an index\r\n",
    "print(shopping_list[4])\r\n",
    "print(shopping_list[-1])"
   ]
  }
 ],
 "metadata": {
  "interpreter": {
   "hash": "8309e9186d5c94dfd18501b0aacdc36c929a901245cf34e7156aebb4ad1ea6a3"
  },
  "kernelspec": {
   "display_name": "Python 3.8.6 32-bit",
   "name": "python3"
  },
  "language_info": {
   "codemirror_mode": {
    "name": "ipython",
    "version": 3
   },
   "file_extension": ".py",
   "mimetype": "text/x-python",
   "name": "python",
   "nbconvert_exporter": "python",
   "pygments_lexer": "ipython3",
   "version": "3.8.6"
  },
  "orig_nbformat": 4
 },
 "nbformat": 4,
 "nbformat_minor": 2
}