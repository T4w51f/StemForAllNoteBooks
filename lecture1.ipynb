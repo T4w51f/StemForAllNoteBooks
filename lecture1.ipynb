{
 "cells": [
  {
   "cell_type": "markdown",
   "metadata": {},
   "source": [
    "# STEM For All\r\n",
    "## Introduction to Python - Session 1\r\n",
    "\r\n",
    "### Introduction\r\n",
    "\r\n",
    "Python is user-friendly and extremely powerful programming language. Learning to work with it is the best way to enter the\r\n",
    "world of programming. It offers developers toolkits with the power of developing simple games and applications, perform statistical\r\n",
    "analysis, run vector/matrix math, train artificial intelligence, program robots and so much more. For the purpose of this event,\r\n",
    "we will work with Python 3 (preferrably version 3.9). We generally avoid mixing Python 2 and Python 3 due to the huge differences\r\n",
    "in supported features and libraries, which introduced backwards incompatible changes in Python 3, and made several functions obsolete \r\n",
    "in the newer versions.\r\n",
    "\r\n",
    "Before we dive into learning the fundamentals of python, let us quickly talk about commenting our code and display data by running\r\n",
    "our code. This will come extremely handy throughout the rest of this program. \r\n",
    "\r\n",
    "Precise documentation and commenting is highly recommended in the programming world. A developer does not just write code for \r\n",
    "themselves to understand, but for anyone using their code too. It should be clean, readable, and intuitive. \r\n",
    "\r\n",
    "Printing data is important if you want to display any data on the console (console is an interface the user interacts with to run \r\n",
    "a program). This could be used to view results of arithmetic operations, to interact with a user, or to debug your code. Debugging\r\n",
    "simply means resolving issues or bugs in your code by viewing the different state of your data or variables, or by seeing how\r\n",
    "far your code runs before breaking.\r\n",
    "\r\n"
   ]
  },
  {
   "cell_type": "code",
   "execution_count": 15,
   "metadata": {},
   "outputs": [
    {
     "name": "stdout",
     "output_type": "stream",
     "text": [
      "This is how we print\n"
     ]
    }
   ],
   "source": [
    "# We use a hash to write comments in Python.\r\n",
    "print(\"This is how we print\")"
   ]
  },
  {
   "cell_type": "markdown",
   "metadata": {},
   "source": [
    "### Data Types and Variables\r\n",
    "\r\n",
    "In Python, like every other programming language, we store data in _variables_. These _variables_ have specific _types_ that give these data a various set of properties.\r\n",
    "The following summarizes the primitive _data types_ that are commonly used:\r\n",
    "\r\n",
    "|   DATA TYPE\t|   NAME\t|  EXAMPLE \t|\r\n",
    "|---\t|---\t|---\t|\r\n",
    "|   int \t|   integers\t|   1, 5, 2501\t|\r\n",
    "|   float\t|   decimals / floating point\t|   3.25, 563.123, 46.0\t|\r\n",
    "|   bool\t|   boolean logic\t|   True, False\t|\r\n",
    "|   str\t    |   string / sequence of characters\t|   \"STEM For All\", \"Hello World\"\t|"
   ]
  },
  {
   "cell_type": "markdown",
   "metadata": {},
   "source": [
    "Let us take a look at how we create some variables of these data types in Python:\r\n"
   ]
  },
  {
   "cell_type": "code",
   "execution_count": 8,
   "metadata": {},
   "outputs": [
    {
     "name": "stdout",
     "output_type": "stream",
     "text": [
      "int:  12 , float:  52.35 , bool:  True , str:  STEM For All\n"
     ]
    }
   ],
   "source": [
    "# int\r\n",
    "whole_number = 12\r\n",
    "\r\n",
    "# float\r\n",
    "decimal_number = 52.35\r\n",
    "\r\n",
    "# bool\r\n",
    "boolean_logic = True\r\n",
    "\r\n",
    "# str\r\n",
    "name = \"STEM For All\"\r\n",
    "\r\n",
    "print(\"int: \", whole_number, \", float: \", decimal_number, \", bool: \", boolean_logic, \", str: \", name)"
   ]
  },
  {
   "cell_type": "markdown",
   "metadata": {},
   "source": [
    "Arithmetic Operators:\r\n",
    "\r\n",
    "Now that we have an understanding of the important data types, we can perform operations on these. Let's start with some arithmetic operators. \r\n",
    "\r\n",
    "\r\n",
    "|   OPERATOR\t|   NAME\t|  EXAMPLE \t|\r\n",
    "|---\t|---\t|---\t|\r\n",
    "|   + \t|   Addition\t|   x = 5 + 3\t|\r\n",
    "|   -\t|   Subtraction\t|   x = 123 - 93\t|\r\n",
    "|   *\t|   Multiplication\t|   x = 12.5 * 23.75\t|\r\n",
    "|   /\t    |   Division\t|   x = 12 / 4\t|\r\n",
    "|   **\t    |   Exponent\t|   x = 2 ** 4\t|"
   ]
  },
  {
   "cell_type": "markdown",
   "metadata": {},
   "source": [
    "Let us execute these examples on Python and observe what we get:"
   ]
  },
  {
   "cell_type": "code",
   "execution_count": 9,
   "metadata": {},
   "outputs": [
    {
     "name": "stdout",
     "output_type": "stream",
     "text": [
      "8\n",
      "30\n",
      "296.875\n",
      "3.0\n",
      "16\n"
     ]
    }
   ],
   "source": [
    "x = 5 + 3\r\n",
    "print(x)\r\n",
    "\r\n",
    "x = 123 - 93\r\n",
    "print(x)\r\n",
    "\r\n",
    "x = 12.5 * 23.75\r\n",
    "print(x)\r\n",
    "\r\n",
    "x = 12 / 4\r\n",
    "print(x)\r\n",
    "\r\n",
    "x = 2 ** 4\r\n",
    "print(x)"
   ]
  },
  {
   "cell_type": "markdown",
   "metadata": {},
   "source": [
    "We can also perform operations on other variables instead of just pure data, much like algebra."
   ]
  },
  {
   "cell_type": "code",
   "execution_count": 10,
   "metadata": {},
   "outputs": [
    {
     "name": "stdout",
     "output_type": "stream",
     "text": [
      "50\n"
     ]
    }
   ],
   "source": [
    "# Let us create a variable x and y and initialize them to some arbitrary integer\r\n",
    "x = 5\r\n",
    "y = 10\r\n",
    "\r\n",
    "# We will perform some operation on these two and store it in a third variable called z\r\n",
    "z = x * y\r\n",
    "print(z)"
   ]
  },
  {
   "cell_type": "markdown",
   "metadata": {},
   "source": [
    "Assignment Operators:\r\n",
    "\r\n",
    "These operators allow us to perform some arithmetic on a variable and directly assign the result to it in a single step. Here are some examples:\r\n",
    "\r\n",
    "|   OPERATOR\t|   DESCRIPTION\t|  EXAMPLE \t|\r\n",
    "|---\t|---\t|---\t|\r\n",
    "|   = \t|   Direct assignment\t|   x = 6\t|\r\n",
    "|   +=\t|   Adding right hand side to the left\t|   x += 5 is the same as x = x + 5\t|\r\n",
    "|   -=\t|   Subtracting right hand side from the left\t|   x -= 10.5 is the same as x = x - 10.5\t|\r\n",
    "|   *=\t    |   Multiplying left hand side by the right\t|   x *= 4 is the same as x = x * 4\t|\r\n",
    "|   /=\t    |   Dividing left hand side by the right\t|   x /= 3 is the same as x = x / 3\t|\r\n",
    "|   **=\t    |   Raising left hand side to the power of the right\t|   x **= 2 is the same as x = x ** 2\t|"
   ]
  },
  {
   "cell_type": "code",
   "execution_count": 11,
   "metadata": {},
   "outputs": [
    {
     "name": "stdout",
     "output_type": "stream",
     "text": [
      "118.4\n",
      "5920.0\n",
      "59.2\n",
      "Hello World!\n"
     ]
    }
   ],
   "source": [
    "# We will use some arbitrary values assigned to x, y and z to demonstrate some examples\r\n",
    "x = 23.4\r\n",
    "y = 43.0\r\n",
    "z = 95.0\r\n",
    "\r\n",
    "z += x\r\n",
    "print(z)\r\n",
    "\r\n",
    "z *= (y + 7)\r\n",
    "print(z)\r\n",
    "\r\n",
    "z /= 100\r\n",
    "print(z)\r\n",
    "\r\n",
    "# We can also use this concatenate strings (meaning combining strings with one another)\r\n",
    "str_a = \"Hello \"\r\n",
    "str_b = \"World!\"\r\n",
    "str_c = str_a + str_b\r\n",
    "print(str_c)"
   ]
  },
  {
   "cell_type": "markdown",
   "metadata": {},
   "source": [
    "### Lists\r\n",
    "\r\n",
    "Now that we have a good understanding of the basic data types, variables and operators, let us move into the concept of lists.\r\n",
    "A list can be thought of as a collection or group of data, where the data are stored in some order. \r\n",
    "It stores these data ordered by integer indexing starting from 0."
   ]
  },
  {
   "cell_type": "code",
   "execution_count": 12,
   "metadata": {},
   "outputs": [
    {
     "name": "stdout",
     "output_type": "stream",
     "text": [
      "cereal\n",
      "mangoes\n",
      "rice\n",
      "rice\n"
     ]
    }
   ],
   "source": [
    "# Let us create a shopping list as an example\r\n",
    "shopping_list = [\"cereal\", \"cookies\", \"mangoes\", \"chicken\", \"rice\"]\r\n",
    "\r\n",
    "# Let us access different items in the shopping list using indexes \r\n",
    "# Index 0 should give us the \"first\" item\r\n",
    "print(shopping_list[0])\r\n",
    "\r\n",
    "# Index 2 should give us the \"third\" item\r\n",
    "print(shopping_list[2])\r\n",
    "\r\n",
    "# We can access the last element in the list by either its actual index, in this case 4, or by using -1 as an index\r\n",
    "print(shopping_list[4])\r\n",
    "print(shopping_list[-1])"
   ]
  },
  {
   "cell_type": "markdown",
   "metadata": {},
   "source": [
    "### Dictionaries\r\n",
    "\r\n",
    "What if we want to store data in a collection like a list, but want to use other data types as indexes?\r\n",
    "This can be done using Python's dictionaries. A dictionary is a group of key and value pairs. Much like\r\n",
    "a list, where the key is an integer and the value is the stored element/data, in a dictionary, you can decide\r\n",
    "the what data type you want your key and value pairs to be."
   ]
  },
  {
   "cell_type": "code",
   "execution_count": 14,
   "metadata": {},
   "outputs": [
    {
     "name": "stdout",
     "output_type": "stream",
     "text": [
      "Dhaka\n"
     ]
    }
   ],
   "source": [
    "# Let us consider an example, where we use a dictionary to store capital cities of different countries.\r\n",
    "# In this case, it might be more convenient to identify these cities by their country, instead of integers.\r\n",
    "\r\n",
    "capital_cities = {\r\n",
    "    \"Bangladesh\" : \"Dhaka\",\r\n",
    "    \"Germany\" : \"Berlin\",\r\n",
    "    \"Greece\" : \"Athens\"\r\n",
    "}\r\n",
    "\r\n",
    "# Say you are using this dictionary as a database to get capital cities of different countries.\r\n",
    "# We would run the following to print the capital of Bangladesh.\r\n",
    "print(capital_cities[\"Bangladesh\"])\r\n"
   ]
  }
 ],
 "metadata": {
  "interpreter": {
   "hash": "8309e9186d5c94dfd18501b0aacdc36c929a901245cf34e7156aebb4ad1ea6a3"
  },
  "kernelspec": {
   "display_name": "Python 3.8.6 32-bit",
   "name": "python3"
  },
  "language_info": {
   "codemirror_mode": {
    "name": "ipython",
    "version": 3
   },
   "file_extension": ".py",
   "mimetype": "text/x-python",
   "name": "python",
   "nbconvert_exporter": "python",
   "pygments_lexer": "ipython3",
   "version": "3.8.6"
  },
  "orig_nbformat": 4
 },
 "nbformat": 4,
 "nbformat_minor": 2
}